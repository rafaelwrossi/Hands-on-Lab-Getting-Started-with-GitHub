{
 "cells": [
  {
   "cell_type": "markdown",
   "id": "a7fe15f4-5653-4088-9325-35f918d489a9",
   "metadata": {},
   "source": [
    "# Data Science Tools and Ecosystem"
   ]
  },
  {
   "cell_type": "markdown",
   "id": "eb7a534b-e650-4a48-95d3-6c97e0422939",
   "metadata": {},
   "source": [
    "In this notebook, Data Science Tools and Ecosystem are summarized."
   ]
  },
  {
   "cell_type": "markdown",
   "id": "57f7bc50-68e5-45f1-a832-bdd380e735ab",
   "metadata": {},
   "source": [
    "Some of the popular languages that Data Scientists use are:\n",
    "\n",
    "1. Python\n",
    "2. R\n",
    "3. SQL\n",
    "4. Julia\n",
    "5. Java\n"
   ]
  },
  {
   "cell_type": "markdown",
   "id": "3522d547-ac67-4a26-b56a-78ef4d8cd9f3",
   "metadata": {},
   "source": [
    "Some of the commonly used libraries used by Data Scientists include:\n",
    "\n",
    "1. Pandas\n",
    "2. NumPy\n",
    "3. Matplotlib\n",
    "4. Scikit-learn\n",
    "5. TensorFlow\n"
   ]
  },
  {
   "cell_type": "markdown",
   "id": "dc214904-d5ef-4feb-8a02-d2b55cfc1ff5",
   "metadata": {},
   "source": [
    "| Data Science Tools          |\n",
    "|-----------------------------|\n",
    "| Jupyter Notebook            |\n",
    "| RStudio                     |\n",
    "| VS Code                     |\n"
   ]
  },
  {
   "cell_type": "markdown",
   "id": "0a8c9d89-cc92-4f8e-be37-7f33298c6c14",
   "metadata": {},
   "source": [
    "### Below are a few examples of evaluating arithmetic expressions in Python.\n"
   ]
  },
  {
   "cell_type": "code",
   "execution_count": 3,
   "id": "6d2efe6e-4ae0-44cd-9d9a-84601a9d8176",
   "metadata": {},
   "outputs": [
    {
     "data": {
      "text/plain": [
       "17"
      ]
     },
     "execution_count": 3,
     "metadata": {},
     "output_type": "execute_result"
    }
   ],
   "source": [
    "#This a simple arithmetic expression to mutiply then add integers\n",
    "(3*4)+5"
   ]
  },
  {
   "cell_type": "markdown",
   "id": "3738f70c-a987-43c8-b911-07403acdb5d3",
   "metadata": {},
   "source": [
    "This will convert 200 minutes to hours by diving by 60"
   ]
  },
  {
   "cell_type": "code",
   "execution_count": 2,
   "id": "eb776d9a-2bbe-4439-b1b8-c46e76103d1d",
   "metadata": {},
   "outputs": [
    {
     "data": {
      "text/plain": [
       "3.3333333333333335"
      ]
     },
     "execution_count": 2,
     "metadata": {},
     "output_type": "execute_result"
    }
   ],
   "source": [
    "# This will convert 200 minutes to hours by dividing by 60\n",
    "minutes = 200\n",
    "hours = minutes / 60\n",
    "hours\n"
   ]
  },
  {
   "cell_type": "markdown",
   "id": "a4ab2a94-8d29-4812-984a-73c8be6239e0",
   "metadata": {},
   "source": [
    "**Objectives:**\n",
    "\n",
    "- List popular languages for Data Science\n",
    "- Identify commonly used libraries in Data Science\n",
    "- Create and format tables in Markdown\n",
    "- Evaluate arithmetic expressions in Python\n",
    "- Convert units (e.g., minutes to hours) using Python\n"
   ]
  },
  {
   "cell_type": "markdown",
   "id": "57795f93-e924-4be9-a6a8-c00809f53253",
   "metadata": {},
   "source": [
    "## Author\n",
    "Rafael Wohlemberg Rossi"
   ]
  },
  {
   "cell_type": "code",
   "execution_count": null,
   "id": "5fbf06c3-cd96-46a6-96e5-2b9b18e88e65",
   "metadata": {},
   "outputs": [],
   "source": []
  }
 ],
 "metadata": {
  "kernelspec": {
   "display_name": "Python 3 (ipykernel)",
   "language": "python",
   "name": "python3"
  },
  "language_info": {
   "codemirror_mode": {
    "name": "ipython",
    "version": 3
   },
   "file_extension": ".py",
   "mimetype": "text/x-python",
   "name": "python",
   "nbconvert_exporter": "python",
   "pygments_lexer": "ipython3",
   "version": "3.12.7"
  }
 },
 "nbformat": 4,
 "nbformat_minor": 5
}
